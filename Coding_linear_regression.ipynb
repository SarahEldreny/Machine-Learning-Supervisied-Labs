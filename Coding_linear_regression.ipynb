{
  "nbformat": 4,
  "nbformat_minor": 0,
  "metadata": {
    "kernelspec": {
      "display_name": "Python 3",
      "language": "python",
      "name": "python3"
    },
    "language_info": {
      "codemirror_mode": {
        "name": "ipython",
        "version": 3
      },
      "file_extension": ".py",
      "mimetype": "text/x-python",
      "name": "python",
      "nbconvert_exporter": "python",
      "pygments_lexer": "ipython3",
      "version": "3.7.6"
    },
    "colab": {
      "name": "Coding_linear_regression.ipynb",
      "provenance": [],
      "collapsed_sections": [],
      "include_colab_link": true
    }
  },
  "cells": [
    {
      "cell_type": "markdown",
      "metadata": {
        "id": "view-in-github",
        "colab_type": "text"
      },
      "source": [
        "<a href=\"https://colab.research.google.com/github/SarahEldreny/Machine-Learning-Supervisied-Labs/blob/main/Coding_linear_regression.ipynb\" target=\"_parent\"><img src=\"https://colab.research.google.com/assets/colab-badge.svg\" alt=\"Open In Colab\"/></a>"
      ]
    },
    {
      "cell_type": "markdown",
      "metadata": {
        "id": "DX4r4QJAjKBA"
      },
      "source": [
        "# Chapter 3: Linear Regression for a housing dataset\n",
        "\n",
        "### Importing the necessary packages"
      ]
    },
    {
      "cell_type": "code",
      "metadata": {
        "id": "NdmKkdOIjMyP",
        "colab": {
          "base_uri": "https://localhost:8080/"
        },
        "outputId": "2617ddbe-8c5e-49ca-adb0-1410b9ad22e8"
      },
      "source": [
        "!git clone https://github.com/s7s/machine_learning_1\n",
        "%cd  machine_learning_1/linear_regression"
      ],
      "execution_count": null,
      "outputs": [
        {
          "output_type": "stream",
          "text": [
            "Cloning into 'machine_learning_1'...\n",
            "remote: Enumerating objects: 73, done.\u001b[K\n",
            "remote: Counting objects: 100% (73/73), done.\u001b[K\n",
            "remote: Compressing objects: 100% (53/53), done.\u001b[K\n",
            "remote: Total 73 (delta 22), reused 68 (delta 17), pack-reused 0\u001b[K\n",
            "Unpacking objects: 100% (73/73), done.\n",
            "/content/machine_learning_1/linear_regression\n"
          ],
          "name": "stdout"
        }
      ]
    },
    {
      "cell_type": "code",
      "metadata": {
        "id": "2Lp-pE1xjKBG"
      },
      "source": [
        "from matplotlib import pyplot as plt\n",
        "import numpy as np\n",
        "import random\n",
        "import utils"
      ],
      "execution_count": null,
      "outputs": []
    },
    {
      "cell_type": "markdown",
      "metadata": {
        "id": "VzQuZ_CyjKBH"
      },
      "source": [
        "### Defining and plotting our dataset"
      ]
    },
    {
      "cell_type": "code",
      "metadata": {
        "id": "TW-HBsNzjKBH",
        "colab": {
          "base_uri": "https://localhost:8080/"
        },
        "outputId": "ce8478aa-a76b-48b7-b4ee-40662e5f30fa"
      },
      "source": [
        "features = np.array([1,2,3,5,6,7])\n",
        "labels = np.array([155, 197, 244, 356,407,448])\n",
        "\n",
        "print(features)\n",
        "print(labels)"
      ],
      "execution_count": null,
      "outputs": [
        {
          "output_type": "stream",
          "text": [
            "[1 2 3 5 6 7]\n",
            "[155 197 244 356 407 448]\n"
          ],
          "name": "stdout"
        }
      ]
    },
    {
      "cell_type": "code",
      "metadata": {
        "id": "pkC2jEKcjKBI",
        "colab": {
          "base_uri": "https://localhost:8080/",
          "height": 279
        },
        "outputId": "ef2e0cb7-071e-44e0-c600-5cea0dc0ec7b"
      },
      "source": [
        "utils.plot_points(features, labels)"
      ],
      "execution_count": null,
      "outputs": [
        {
          "output_type": "display_data",
          "data": {
            "image/png": "[encoded data removed]",
            "text/plain": [
              "<Figure size 432x288 with 1 Axes>"
            ]
          },
          "metadata": {
            "tags": [],
            "needs_background": "light"
          }
        }
      ]
    },
    {
      "cell_type": "markdown",
      "metadata": {
        "id": "50-WodUTjKBJ"
      },
      "source": [
        "### Coding the tricks\n",
        "\n",
        "- Simple trick\n",
        "- Absolute trick\n",
        "- Square trick"
      ]
    },
    {
      "cell_type": "code",
      "metadata": {
        "id": "XgeArBsYjKBJ"
      },
      "source": [
        "def simple_trick(base_price, price_per_room, num_rooms, price):\n",
        "    small_random_1 = random.random()*0.1\n",
        "    small_random_2 = random.random()*0.1\n",
        "    predicted_price = base_price + price_per_room*num_rooms\n",
        "    if price > predicted_price and num_rooms > 0:\n",
        "        price_per_room += small_random_1\n",
        "        base_price += small_random_2\n",
        "    if price > predicted_price and num_rooms < 0:\n",
        "        price_per_room -= small_random_1\n",
        "        base_price += small_random_2\n",
        "    if price < predicted_price and num_rooms > 0:\n",
        "        price_per_room -= small_random_1\n",
        "        base_price -= small_random_2\n",
        "    if price < predicted_price and num_rooms < 0:\n",
        "        price_per_room -= small_random_1\n",
        "        base_price += small_random_2\n",
        "    return price_per_room, base_price"
      ],
      "execution_count": null,
      "outputs": []
    },
    {
      "cell_type": "code",
      "metadata": {
        "id": "sKFJi0SDjKBK",
        "colab": {
          "base_uri": "https://localhost:8080/"
        },
        "outputId": "1f655fad-abfb-48ea-861e-8b4a2a4a4830"
      },
      "source": [
        "def square_trick(base_price, price_per_room, num_rooms, price, learning_rate):\n",
        "    ## TODO ##\n",
        "    #implement square_trick and return the new price_per_room and base_price\n",
        "    # calculate the predicted price then calculate the new price_per_room and base_price\n",
        "    P_hate = price_per_room*num_rooms + base_price\n",
        "    base_price = base_price + learning_rate*(price-P_hate)\n",
        "    price_per_room = price_per_room + learning_rate*num_rooms*(price-P_hate)\n",
        "\n",
        "    return price_per_room, base_price\n",
        "square_trick(100,50,3,220,0.5)"
      ],
      "execution_count": null,
      "outputs": [
        {
          "output_type": "execute_result",
          "data": {
            "text/plain": [
              "(5.0, 85.0)"
            ]
          },
          "metadata": {
            "tags": []
          },
          "execution_count": 8
        }
      ]
    },
    {
      "cell_type": "code",
      "metadata": {
        "id": "KDpRByp4jKBK",
        "colab": {
          "base_uri": "https://localhost:8080/"
        },
        "outputId": "78cba935-b8eb-43bc-b948-ebf4304b0e7b"
      },
      "source": [
        "def absolute_trick(base_price, price_per_room, num_rooms, price, learning_rate):\n",
        "    ## TODO ##\n",
        "    #implement absolute_trick and return the new price_per_room and base_price\n",
        "    # calculate the predicted price then calculate the new price_per_room and base_price\n",
        "    P_hate = price_per_room*num_rooms + base_price\n",
        "    if price > P_hate:\n",
        "      base_price = base_price + learning_rate\n",
        "      price_per_room = price_per_room + learning_rate*num_rooms\n",
        "    if price < P_hate:\n",
        "      base_price = base_price - learning_rate\n",
        "      price_per_room = price_per_room - learning_rate*num_rooms\n",
        "\n",
        "    return price_per_room, base_price\n",
        "absolute_trick(100,50,3,220,0.5)"
      ],
      "execution_count": null,
      "outputs": [
        {
          "output_type": "execute_result",
          "data": {
            "text/plain": [
              "(48.5, 99.5)"
            ]
          },
          "metadata": {
            "tags": []
          },
          "execution_count": 9
        }
      ]
    },
    {
      "cell_type": "markdown",
      "metadata": {
        "id": "Uak0SEZbjKBL"
      },
      "source": [
        "### Running the linear regression algorithm\n",
        "\n",
        "The linear regression algorithm consists of:\n",
        "- Starting with random weights\n",
        "- Iterating the square (or simple, or absolute) trick many times."
      ]
    },
    {
      "cell_type": "code",
      "metadata": {
        "id": "j73km5P1jKBL",
        "colab": {
          "base_uri": "https://localhost:8080/",
          "height": 338
        },
        "outputId": "38aefc82-1d93-4739-e738-ee403c3ad80a"
      },
      "source": [
        "import random as rd\n",
        "\n",
        "# We set the random seed in order to always get the same results.\n",
        "random.seed(0)\n",
        "\n",
        "def linear_regression(features, labels, learning_rate=0.01, epochs = 10000):\n",
        "    price_per_room =  random.random() # start with random weight\n",
        "    base_price =  random.random() # start with random bias\n",
        "    ## TODO ##\n",
        "\n",
        "    # for this number of epochs \n",
        "    for i in range(epochs):\n",
        "      point_random = random.randint(0,len(labels))\n",
        "      num_rooms = features[point_random-1]\n",
        "      price = labels[point_random-1]\n",
        "      price_per_room , base_price = absolute_trick(base_price, price_per_room, num_rooms, price, learning_rate)\n",
        "    # get a random datasample of our dataset(x,y)\n",
        "    # using the selected datasample use square_trick fn or absolute_trick fn to update price_per_room and base_price\n",
        "\n",
        "    utils.draw_line(price_per_room, base_price, 'black', starting=0, ending=8)\n",
        "    utils.plot_points(features, labels)\n",
        "    print('Price per room:', price_per_room)\n",
        "    print('Base price:', base_price)\n",
        "    return price_per_room, base_price\n",
        "\n",
        "# This line is for the x-axis to appear in the figure\n",
        "plt.ylim(0,500)\n",
        "\n",
        "linear_regression(features, labels, learning_rate = 0.01, epochs = 10000)"
      ],
      "execution_count": null,
      "outputs": [
        {
          "output_type": "stream",
          "text": [
            "Price per room: 60.11442185152897\n",
            "Base price: 45.07795440293991\n"
          ],
          "name": "stdout"
        },
        {
          "output_type": "execute_result",
          "data": {
            "text/plain": [
              "(60.11442185152897, 45.07795440293991)"
            ]
          },
          "metadata": {
            "tags": []
          },
          "execution_count": 10
        },
        {
          "output_type": "display_data",
          "data": {
            "image/png": "[encoded data removed]",
            "text/plain": [
              "<Figure size 432x288 with 1 Axes>"
            ]
          },
          "metadata": {
            "tags": [],
            "needs_background": "light"
          }
        }
      ]
    },
    {
      "cell_type": "markdown",
      "metadata": {
        "id": "IEZJnQv_jKBM"
      },
      "source": [
        "### Root mean squared error function"
      ]
    },
    {
      "cell_type": "code",
      "metadata": {
        "id": "8yIxnLbFjKBM"
      },
      "source": [
        "# The root mean square error function\n",
        "def rmse(labels, predictions):\n",
        "    ## TODO ##\n",
        "    # calculate the root meen square error between the labels and predictions\n",
        "    n = len(labels)\n",
        "    error = np.sqrt((1/n)*np.sum(labels - predictions)**2)\n",
        "    return error"
      ],
      "execution_count": null,
      "outputs": []
    },
    {
      "cell_type": "markdown",
      "metadata": {
        "id": "nh29EinojKBM"
      },
      "source": [
        "### Plotting the error function"
      ]
    },
    {
      "cell_type": "code",
      "metadata": {
        "id": "O3u1TVZLjKBN",
        "colab": {
          "base_uri": "https://localhost:8080/",
          "height": 582
        },
        "outputId": "6b7347d3-afb5-4896-f7cc-88a7bbaaaead"
      },
      "source": [
        "def linear_regression(features, labels, learning_rate=0.01, epochs = 1000):\n",
        "    price_per_room = random.random()\n",
        "    base_price = random.random()\n",
        "    errors = []\n",
        "    for i in range(epochs):\n",
        "        predictions = features*price_per_room+base_price\n",
        "        errors.append(rmse(labels, predictions))\n",
        "        i = random.randint(0, len(features)-1)\n",
        "        num_rooms = features[i]\n",
        "        price = labels[i]\n",
        "        # Uncomment one of the following 3 lines to use the simple, the absolute, or the square trick\n",
        "        #price_per_room, base_price = simple_trick(base_price,\n",
        "        #price_per_room, base_price = absolute_trick(base_price,\n",
        "        price_per_room, base_price = square_trick(base_price,\n",
        "                                                  price_per_room,\n",
        "                                                  num_rooms,\n",
        "                                                  price,\n",
        "                                                  learning_rate=learning_rate)\n",
        "    utils.draw_line(price_per_room, base_price, 'black', starting=0, ending=9)\n",
        "    utils.plot_points(features, labels)\n",
        "    print('Price per room:', price_per_room)\n",
        "    print('Base price:', base_price)\n",
        "    plt.show()\n",
        "    plt.scatter(range(len(errors)), errors)\n",
        "    plt.show()\n",
        "    return price_per_room, base_price\n",
        "\n",
        "linear_regression(features, labels, learning_rate = 0.01, epochs = 10000)"
      ],
      "execution_count": null,
      "outputs": [
        {
          "output_type": "stream",
          "text": [
            "Price per room: 50.25397162853154\n",
            "Base price: 99.87674457458472\n"
          ],
          "name": "stdout"
        },
        {
          "output_type": "display_data",
          "data": {
            "image/png": "[encoded data removed]",
            "text/plain": [
              "<Figure size 432x288 with 1 Axes>"
            ]
          },
          "metadata": {
            "tags": [],
            "needs_background": "light"
          }
        },
        {
          "output_type": "display_data",
          "data": {
            "image/png": "[encoded data removed]",
            "text/plain": [
              "<Figure size 432x288 with 1 Axes>"
            ]
          },
          "metadata": {
            "tags": [],
            "needs_background": "light"
          }
        },
        {
          "output_type": "execute_result",
          "data": {
            "text/plain": [
              "(50.25397162853154, 99.87674457458472)"
            ]
          },
          "metadata": {
            "tags": []
          },
          "execution_count": 12
        }
      ]
    },
    {
      "cell_type": "markdown",
      "metadata": {
        "id": "IFVTjCLMjKBN"
      },
      "source": [
        "### Linear regression using sklearn\n",
        "\n"
      ]
    },
    {
      "cell_type": "code",
      "metadata": {
        "id": "pRjXCzgqzXKO",
        "colab": {
          "base_uri": "https://localhost:8080/"
        },
        "outputId": "f7857e76-6b80-4de1-b9ce-78c4600941dc"
      },
      "source": [
        "## TODO ##\n",
        "# Use sklearn to implement linear regression that fit our data (features, labels)\n",
        "from sklearn.linear_model import LinearRegression\n",
        "features = features.reshape(-1,1)\n",
        "labels = labels.reshape(-1,1)\n",
        "\n",
        "reg = LinearRegression().fit(features, labels)\n",
        "reg.score(features, labels)"
      ],
      "execution_count": null,
      "outputs": [
        {
          "output_type": "execute_result",
          "data": {
            "text/plain": [
              "0.9979437166148433"
            ]
          },
          "metadata": {
            "tags": []
          },
          "execution_count": 25
        }
      ]
    },
    {
      "cell_type": "code",
      "metadata": {
        "id": "q3nEUOfu0OF0",
        "colab": {
          "base_uri": "https://localhost:8080/"
        },
        "outputId": "a3fcde51-fa5e-4a34-80ab-cd2806860446"
      },
      "source": [
        "## TODO ##\n",
        "# print the coefficients and bias of this model\n",
        "print(\"Coefficients:\" , reg.coef_)\n",
        "print(\"Intercept:\",reg.intercept_)"
      ],
      "execution_count": null,
      "outputs": [
        {
          "output_type": "stream",
          "text": [
            "Coefficients: [[50.39285714]]\n",
            "Intercept: [99.5952381]\n"
          ],
          "name": "stdout"
        }
      ]
    },
    {
      "cell_type": "code",
      "metadata": {
        "id": "gIULdfcT4ZEi",
        "colab": {
          "base_uri": "https://localhost:8080/"
        },
        "outputId": "4402498c-517b-4def-ce20-a7d2c9af809a"
      },
      "source": [
        "## TODO ##\n",
        "# use this model to predict the price of house that contains 4 rooms\n",
        "print(\"Predictions:\", reg.predict(np.array([[4]]).reshape(-1,1)))"
      ],
      "execution_count": null,
      "outputs": [
        {
          "output_type": "stream",
          "text": [
            "Predictions: [[301.16666667]]\n"
          ],
          "name": "stdout"
        }
      ]
    },
    {
      "cell_type": "markdown",
      "metadata": {
        "id": "4vXa1CM7CDL3"
      },
      "source": [
        "### Normal Equation\n",
        "\n"
      ]
    },
    {
      "cell_type": "code",
      "metadata": {
        "id": "ar4JBp-cB4cH",
        "colab": {
          "base_uri": "https://localhost:8080/"
        },
        "outputId": "cd43ac51-b060-4a05-b806-7ec69a33c2d3"
      },
      "source": [
        "def Normal_Equation(features,labels):\n",
        "    ## TODO ##\n",
        "    # Use normal equation to get the weights\n",
        "    # don't forget to concatenate ones to the features\n",
        "    newColumn = np.ones((len(features),1))\n",
        "    features = np.hstack((features,newColumn))\n",
        "    W = np.linalg.pinv(features)@labels\n",
        "    return W\n",
        "\n",
        "W = Normal_Equation(features,labels)\n",
        "print(W)\n",
        "print(features)"
      ],
      "execution_count": null,
      "outputs": [
        {
          "output_type": "stream",
          "text": [
            "[[50.39285714]\n",
            " [99.5952381 ]]\n",
            "[[1]\n",
            " [2]\n",
            " [3]\n",
            " [5]\n",
            " [6]\n",
            " [7]]\n"
          ],
          "name": "stdout"
        }
      ]
    },
    {
      "cell_type": "code",
      "metadata": {
        "id": "gWcktyyaQz6W"
      },
      "source": [
        ""
      ],
      "execution_count": null,
      "outputs": []
    }
  ]
}