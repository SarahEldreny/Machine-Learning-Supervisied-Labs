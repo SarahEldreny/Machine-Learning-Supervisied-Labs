{
  "nbformat": 4,
  "nbformat_minor": 0,
  "metadata": {
    "kernelspec": {
      "display_name": "Python 3",
      "language": "python",
      "name": "python3"
    },
    "language_info": {
      "codemirror_mode": {
        "name": "ipython",
        "version": 3
      },
      "file_extension": ".py",
      "mimetype": "text/x-python",
      "name": "python",
      "nbconvert_exporter": "python",
      "pygments_lexer": "ipython3",
      "version": "3.7.6"
    },
    "colab": {
      "name": " Polynomial_regression_regularization.ipynb",
      "provenance": [],
      "collapsed_sections": [],
      "include_colab_link": true
    }
  },
  "cells": [
    {
      "cell_type": "markdown",
      "metadata": {
        "id": "view-in-github",
        "colab_type": "text"
      },
      "source": [
        "<a href=\"https://colab.research.google.com/github/SarahEldreny/Machine-Learning-Supervisied-Labs/blob/main/Polynomial_regression_regularization.ipynb\" target=\"_parent\"><img src=\"https://colab.research.google.com/assets/colab-badge.svg\" alt=\"Open In Colab\"/></a>"
      ]
    },
    {
      "cell_type": "markdown",
      "metadata": {
        "id": "eyjewtSBMA95"
      },
      "source": [
        "# Testing and regularization"
      ]
    },
    {
      "cell_type": "code",
      "metadata": {
        "id": "y_RXtj1eMCb3",
        "colab": {
          "base_uri": "https://localhost:8080/"
        },
        "outputId": "ed338702-7684-44cd-97e8-d8a454d209b7"
      },
      "source": [
        "!git clone https://github.com/s7s/machine_learning_1.git\n",
        "%cd  machine_learning_1/polynomial_regression"
      ],
      "execution_count": null,
      "outputs": [
        {
          "output_type": "stream",
          "text": [
            "Cloning into 'machine_learning_1'...\n",
            "remote: Enumerating objects: 109, done.\u001b[K\n",
            "remote: Counting objects: 100% (109/109), done.\u001b[K\n",
            "remote: Compressing objects: 100% (79/79), done.\u001b[K\n",
            "remote: Total 109 (delta 42), reused 94 (delta 27), pack-reused 0\u001b[K\n",
            "Receiving objects: 100% (109/109), 33.19 MiB | 21.54 MiB/s, done.\n",
            "Resolving deltas: 100% (42/42), done.\n",
            "/content/machine_learning_1/polynomial_regression\n"
          ],
          "name": "stdout"
        }
      ]
    },
    {
      "cell_type": "code",
      "metadata": {
        "id": "YpX56PtFMA-A"
      },
      "source": [
        "import pandas as pd\n",
        "import numpy as np\n",
        "import random\n",
        "import matplotlib.pyplot as plt\n",
        "random.seed(0)"
      ],
      "execution_count": null,
      "outputs": []
    },
    {
      "cell_type": "markdown",
      "metadata": {
        "id": "WBD0ZY2wMA-B"
      },
      "source": [
        "## Defining our dataset"
      ]
    },
    {
      "cell_type": "code",
      "metadata": {
        "id": "4sDgbZNRMA-C",
        "colab": {
          "base_uri": "https://localhost:8080/",
          "height": 269
        },
        "outputId": "1324ea86-4c8b-4799-de4b-9595eb222d62"
      },
      "source": [
        "# Our original polynomial is -x^2+x+15\n",
        "coefs = [15,1,-1]\n",
        "\n",
        "def polynomial(coefs, x):\n",
        "    n = len(coefs)\n",
        "    return sum([coefs[i]*x**i for i in range(n)])\n",
        "\n",
        "def draw_polynomial(coefs):\n",
        "    n = len(coefs)\n",
        "    x = np.linspace(-5, 5, 1000)\n",
        "    plt.ylim(-20,20)\n",
        "    plt.plot(x, sum([coefs[i]*x**i for i in range(n)]), linestyle='-', color='black')\n",
        "\n",
        "draw_polynomial(coefs)"
      ],
      "execution_count": null,
      "outputs": [
        {
          "output_type": "display_data",
          "data": {
            "image/png": "[encoded data removed]",
            "text/plain": [
              "<Figure size 432x288 with 1 Axes>"
            ]
          },
          "metadata": {
            "tags": [],
            "needs_background": "light"
          }
        }
      ]
    },
    {
      "cell_type": "code",
      "metadata": {
        "id": "WvGqHRFCMA-E"
      },
      "source": [
        "X = []\n",
        "Y = []\n",
        "for i in range(40):\n",
        "    x = random.uniform(-5,5)\n",
        "    y = polynomial(coefs, x) + random.gauss(0,2)\n",
        "    X.append(x)\n",
        "    Y.append(y)\n",
        "X=np.array(X)\n",
        "Y=np.array(Y)"
      ],
      "execution_count": null,
      "outputs": []
    },
    {
      "cell_type": "code",
      "metadata": {
        "id": "ETQxgGiFMA-E",
        "colab": {
          "base_uri": "https://localhost:8080/",
          "height": 283
        },
        "outputId": "a11df1fc-2767-454f-f5bb-ce844b764991"
      },
      "source": [
        "plt.scatter(X, Y)\n",
        "#draw_polynomial(coefs)"
      ],
      "execution_count": null,
      "outputs": [
        {
          "output_type": "execute_result",
          "data": {
            "text/plain": [
              "<matplotlib.collections.PathCollection at 0x7f6a8f8d8750>"
            ]
          },
          "metadata": {
            "tags": []
          },
          "execution_count": 5
        },
        {
          "output_type": "display_data",
          "data": {
            "image/png": "[encoded data removed]",
            "text/plain": [
              "<Figure size 432x288 with 1 Axes>"
            ]
          },
          "metadata": {
            "tags": [],
            "needs_background": "light"
          }
        }
      ]
    },
    {
      "cell_type": "markdown",
      "metadata": {
        "id": "wLUfmV9iMA-F"
      },
      "source": [
        "## Training a polynomial regression model"
      ]
    },
    {
      "cell_type": "code",
      "metadata": {
        "id": "xsNmJ6hoGPjb",
        "colab": {
          "base_uri": "https://localhost:8080/"
        },
        "outputId": "878158b1-ea96-4730-dbc2-3fa90bd96572"
      },
      "source": [
        "for datasample in zip(X,Y):\n",
        "    print(datasample)"
      ],
      "execution_count": null,
      "outputs": [
        {
          "output_type": "stream",
          "text": [
            "(3.4442185152504816, 6.685961311021467)\n",
            "(-2.4108324970703663, 4.690236225597948)\n",
            "(0.11274721368608542, 12.205789026637378)\n",
            "(-1.9668727392107255, 11.133217991032268)\n",
            "(-0.23403045847644144, 10.927272159051856)\n",
            "(0.046868558173902564, 12.8584762866286)\n",
            "(-2.1816215560029617, 8.16012255928749)\n",
            "(-2.4949365863755943, 3.5061587527226514)\n",
            "(4.097462559682402, 5.933186396721837)\n",
            "(4.021659504395828, 2.454299054753137)\n",
            "(-1.8985243068066735, 8.956020414039855)\n",
            "(1.8398393191544127, 9.208004401915796)\n",
            "(-0.2785728454728664, 16.36505651355184)\n",
            "(1.1088697344380165, 16.14144978027318)\n",
            "(4.130110532378982, 4.299534274468492)\n",
            "(3.6530992777164, 4.83366913200435)\n",
            "(-2.395076896080406, 7.723543125251446)\n",
            "(-4.8595829983598104, -15.848718674227753)\n",
            "(2.1970468640395415, 9.366124268570305)\n",
            "(1.6815320123185087, 16.070558182542374)\n",
            "(-4.988571806855717, -18.893035332565795)\n",
            "(-2.5608912311286804, 6.043189895391749)\n",
            "(-1.7479563725260991, 11.091071520573042)\n",
            "(0.6751074062067186, 14.272553413210698)\n",
            "(-2.6138407138477984, 9.085321805751548)\n",
            "(-0.5203042856442961, 13.47860807272069)\n",
            "(-4.195541814474646, -7.812998091307244)\n",
            "(4.3283382422690675, 2.748647759010411)\n",
            "(-3.909421540688963, -7.163796336350065)\n",
            "(0.4744091132842376, 14.257854146830486)\n",
            "(3.14466863291336, 3.2664703661537313)\n",
            "(1.0318562796138302, 13.67662422703284)\n",
            "(0.8761706417543635, 12.57404063707232)\n",
            "(-1.1509885402733957, 13.436894195835206)\n",
            "(0.7565101416488851, 14.859288476607356)\n",
            "(-3.132704717444449, 3.3081236367340967)\n",
            "(1.1277317986860673, 13.596584816754236)\n",
            "(-4.1017563880440635, -7.821475002235993)\n",
            "(2.576039219664368, 14.181083579723474)\n",
            "(3.424602231401824, 3.5269925176080537)\n"
          ],
          "name": "stdout"
        }
      ]
    },
    {
      "cell_type": "markdown",
      "metadata": {
        "id": "Pze2ZphQMA-G"
      },
      "source": [
        "### Adding columns to our dataset corresponding to $x^2, x^3, \\ldots, x^{200}$"
      ]
    },
    {
      "cell_type": "code",
      "metadata": {
        "id": "c2XZgASOGfVv"
      },
      "source": [
        "from sklearn.preprocessing import PolynomialFeatures\n",
        "def addPoly(X,polyDegree):\n",
        "    ## TODO ##\n",
        "    #use sklearn (PolynomialFeatures method)\n",
        "    poly = PolynomialFeatures(degree=200,include_bias=False)\n",
        "    X=poly.fit_transform(X.reshape(-1, 1))\n",
        "    return X\n",
        "    return X\n",
        "X_poly=addPoly(X,200)"
      ],
      "execution_count": null,
      "outputs": []
    },
    {
      "cell_type": "code",
      "metadata": {
        "id": "kKXdyM7fGzLC",
        "colab": {
          "base_uri": "https://localhost:8080/"
        },
        "outputId": "610923c4-08b3-4ca1-edb8-4cdc9ccf3cf7"
      },
      "source": [
        "print(X_poly.shape)\n",
        "print(X_poly[0,:])"
      ],
      "execution_count": null,
      "outputs": [
        {
          "output_type": "stream",
          "text": [
            "(40, 200)\n",
            "[3.44421852e+000 1.18626412e+001 4.08575284e+001 1.40722256e+002\n",
            " 4.84678199e+002 1.66933763e+003 5.74956356e+003 1.98027533e+004\n",
            " 6.82050095e+004 2.34912956e+005 8.09091554e+005 2.78668811e+006\n",
            " 9.59796279e+006 3.30574811e+007 1.13857189e+008 3.92149037e+008\n",
            " 1.35064697e+009 4.65192332e+009 1.60222404e+010 5.51840971e+010\n",
            " 1.90066089e+011 6.54629143e+011 2.25468581e+012 7.76563063e+012\n",
            " 2.67465288e+013 9.21208897e+013 3.17284474e+014 1.09279706e+015\n",
            " 3.76383187e+015 1.29634594e+016 4.46489869e+016 1.53780867e+017\n",
            " 5.29654911e+017 1.82424725e+018 6.28310616e+018 2.16403906e+019\n",
            " 7.45342338e+019 2.56712188e+020 8.84172871e+020 3.04528457e+021\n",
            " 1.04886255e+022 3.61251182e+022 1.24422801e+023 4.28539315e+023\n",
            " 1.47598304e+024 5.08360812e+024 1.75090572e+025 6.03050191e+025\n",
            " 2.07703663e+026 7.15376803e+026 2.46391403e+027 8.48625832e+027\n",
            " 2.92285280e+028 1.00669437e+029 3.46727540e+029 1.19420541e+030\n",
            " 4.11310440e+030 1.41664303e+031 4.87922816e+031 1.68051280e+032\n",
            " 5.78805329e+032 1.99353203e+033 6.86615993e+033 2.36485552e+034\n",
            " 8.14507916e+034 2.80534324e+035 9.66221514e+035 3.32787803e+036\n",
            " 1.14619391e+037 3.94774230e+037 1.35968871e+038 4.68306503e+038\n",
            " 1.61294993e+039 5.55535201e+039 1.91338463e+040 6.59011475e+040\n",
            " 2.26977953e+041 7.81761667e+041 2.69255801e+042 9.27375814e+042\n",
            " 3.19408495e+043 1.10011265e+044 3.78902837e+044 1.30502417e+045\n",
            " 4.49478839e+045 1.54810334e+046 5.33200619e+046 1.83645944e+047\n",
            " 6.32516762e+047 2.17852594e+048 7.50331939e+048 2.58430716e+049\n",
            " 8.90091855e+049 3.06567085e+050 1.05588403e+051 3.63669533e+051\n",
            " 1.25255734e+052 4.31408117e+052 1.48586383e+053 5.11763970e+053\n",
            " 1.76262694e+054 6.07087234e+054 2.09094109e+055 7.20165803e+055\n",
            " 2.48040839e+056 8.54306851e+056 2.94241947e+057 1.01343356e+058\n",
            " 3.49048664e+058 1.20219987e+059 4.14063906e+059 1.42612657e+060\n",
            " 4.91189154e+060 1.69176278e+061 5.82680069e+061 2.00687748e+062\n",
            " 6.91212458e+062 2.38068674e+063 8.19960536e+063 2.82412326e+064\n",
            " 9.72689763e+064 3.35015609e+065 1.15386696e+066 3.97416996e+066\n",
            " 1.36879098e+067 4.71441522e+067 1.62374762e+068 5.59254162e+068\n",
            " 1.92619354e+069 6.63423145e+069 2.28497428e+070 7.86995072e+070\n",
            " 2.71058300e+071 9.33584015e+071 3.21546735e+072 1.10747722e+073\n",
            " 3.81439354e+073 1.31376049e+074 4.52487819e+074 1.55846692e+075\n",
            " 5.36770063e+075 1.84875339e+076 6.36751066e+076 2.19310981e+077\n",
            " 7.55354941e+077 2.60160747e+078 8.96050463e+078 3.08619360e+079\n",
            " 1.06295251e+080 3.66104073e+080 1.26094243e+081 4.34296125e+081\n",
            " 1.49581075e+082 5.15189909e+082 1.77442662e+083 6.11151303e+083\n",
            " 2.10493864e+084 7.24986862e+084 2.49701317e+085 8.60025901e+085\n",
            " 2.96211713e+086 1.02021787e+087 3.51385326e+087 1.21024785e+088\n",
            " 4.16835804e+088 1.43567360e+089 4.94477358e+089 1.70308807e+090\n",
            " 5.86580747e+090 2.02031227e+091 6.95839692e+091 2.39662395e+092\n",
            " 8.25449659e+092 2.84302900e+093 9.79201312e+093 3.37258329e+094\n",
            " 1.16159138e+095 4.00077454e+095 1.37795417e+096 4.74597528e+096\n",
            " 1.63461759e+097 5.62998018e+097 1.93908820e+098 6.67864348e+098\n",
            " 2.30027075e+099 7.92263511e+099 2.72872865e+100 9.39833775e+100\n",
            " 3.23699289e+101 1.11489108e+102 3.83992852e+102 1.32255529e+103\n",
            " 4.55516942e+103 1.56889988e+104 5.40363403e+104 1.86112964e+105\n",
            " 6.41013716e+105 2.20779131e+106 7.60411570e+106 2.61902361e+107]\n"
          ],
          "name": "stdout"
        }
      ]
    },
    {
      "cell_type": "markdown",
      "metadata": {
        "id": "S8uYLISVMA-H"
      },
      "source": [
        "## Splitting data into training and testing"
      ]
    },
    {
      "cell_type": "code",
      "metadata": {
        "id": "fVnfiOyqMNLg"
      },
      "source": [
        "from sklearn.model_selection import train_test_split\n",
        "## TODO ##\n",
        "# use sklearn (train_test_split) to split data to 80% training 20% testing\n",
        "X_train, X_test, y_train, y_test = train_test_split(X_poly,Y, test_size=0.2, train_size=0.8)"
      ],
      "execution_count": null,
      "outputs": []
    },
    {
      "cell_type": "code",
      "metadata": {
        "id": "WmHYknzXMA-I"
      },
      "source": [
        "from sklearn.metrics import mean_squared_error\n",
        "def display_results(model):\n",
        "    coefs = [model.intercept_]\n",
        "    coefs += list(model.coef_)\n",
        "    ytrain_predict=model.predict(X_train)\n",
        "    ytest_predict=model.predict(X_test)\n",
        "    train_error=np.sqrt(mean_squared_error(y_train,ytrain_predict))\n",
        "    test_error=np.sqrt(mean_squared_error(y_test,ytest_predict))\n",
        "    print(\"Training error (rmse):\", train_error)\n",
        "    print(\"Testing error (rmse):\", test_error)\n",
        "    plt.scatter(X_train[:,0], y_train, marker='o')\n",
        "    plt.scatter(X_test[:,0], y_test, marker='^')\n",
        "    draw_polynomial(coefs)\n",
        "    plt.show()\n",
        "    print(\"Polynomial coefficients\")\n",
        "    print(coefs)"
      ],
      "execution_count": null,
      "outputs": []
    },
    {
      "cell_type": "markdown",
      "metadata": {
        "id": "G9x4Q5S3MA-I"
      },
      "source": [
        "## Training a polynomial regression model with no regularization"
      ]
    },
    {
      "cell_type": "code",
      "metadata": {
        "id": "QKm7sV7JMA-J"
      },
      "source": [
        "from sklearn.linear_model import LinearRegression\n",
        "## TODO ##\n",
        "# use sklearn linear regression to fit the data \n",
        "# normalization trick ;)\n",
        "\n",
        "model_no_reg = LinearRegression(normalize=True).fit(X_train, y_train,)"
      ],
      "execution_count": null,
      "outputs": []
    },
    {
      "cell_type": "code",
      "metadata": {
        "id": "uje8MamakgwD",
        "colab": {
          "base_uri": "https://localhost:8080/",
          "height": 362
        },
        "outputId": "30a12a24-0aed-4012-9627-eaea0d8bbd8a"
      },
      "source": [
        "display_results(model_no_reg)"
      ],
      "execution_count": null,
      "outputs": [
        {
          "output_type": "stream",
          "text": [
            "Training error (rmse): 0.014198353798005584\n",
            "Testing error (rmse): 1.0936373671325713e+24\n"
          ],
          "name": "stdout"
        },
        {
          "output_type": "display_data",
          "data": {
            "image/png": "[encoded data removed]",
            "text/plain": [
              "<Figure size 432x288 with 1 Axes>"
            ]
          },
          "metadata": {
            "tags": [],
            "needs_background": "light"
          }
        },
        {
          "output_type": "stream",
          "text": [
            "Polynomial coefficients\n",
            "[17.490932647839358, -133.84563595101162, 681.1859488601771, 2094.218329630714, -11858.715457839628, -669.8769554726517, 49076.166179618995, -31916.75621942701, -66036.45535792722, 56546.53752747286, 47236.9482003907, -43105.96027503217, -21614.22888664744, 17987.382137523266, 6714.158601335643, -4334.681947767562, -1372.8755612592345, 579.0851518786136, 164.79912195836906, -34.52874332468128, -8.339636352864977, -0.169656948804695, -0.18321016151035605, 0.07256547497804534, 0.019317374902468744, 0.0018297471483358454, 0.0009886195396129507, -7.241842805639627e-05, -2.4077388296340986e-06, -6.821064963987018e-06, -2.5287574950741263e-06, -2.5102748882617146e-07, -1.580470082231952e-07, -3.5702002059367063e-09, -5.22152511671617e-09, 2.0024381042247905e-10, -2.728241089728246e-11, 2.0833420392745113e-11, 9.6560102273148e-12, 1.2630139279229095e-12, 8.661124542397916e-13, 5.980664979948485e-14, 5.029880759346691e-14, 2.575007243015972e-15, 2.3910183078918847e-15, 9.440844285199222e-17, 9.334810496763677e-17, 2.7572417364877305e-18, 2.8556876904639633e-18, 2.6786760871831315e-20, 4.480162834645303e-20, -4.073877269385664e-21, -2.7616463608500033e-21, -4.363502451077016e-22, -3.5075980070061847e-22, -3.3376050678520236e-23, -2.718070792003916e-23, -2.1660413189805503e-24, -1.7073047722114037e-24, -1.260849027536714e-25, -9.616087491158742e-26, -6.763603280290331e-27, -5.250443416362925e-27, -3.321885281430869e-28, -2.647448816281051e-28, -1.6151463200763498e-29, -1.2910262651085914e-29, -7.3823629233116255e-31, -6.144284353330617e-31, -3.1381017935050653e-32, -2.739523839815838e-32, -1.1801385993431258e-33, -1.1714252963020309e-33, -3.8298566567741404e-35, -4.758492916455759e-35, -7.828929468592518e-37, -1.7223568873498805e-36, 2.7425600053203855e-38, -5.155302594827159e-38, 4.750645194155175e-39, -7.255807049201748e-40, 3.8010730135477764e-40, 7.130079262785324e-41, 2.9800516038051306e-41, 8.589444698237475e-42, 1.8091864859842757e-42, 6.5429575898285436e-43, 1.0957559550234265e-43, 4.563275019134891e-44, 6.407879007224016e-45, 2.874203484691221e-45, 3.937445885142825e-46, 1.7699226002585035e-46, 2.1476884419184336e-47, 1.0305216836949807e-47, 1.1799354008734733e-48, 5.750739755677088e-49, 6.361024243401962e-50, 3.2371627491667077e-50, 3.2969539235243344e-51, 1.7643129392579418e-51, 1.7394141868038657e-52, 9.859970682270762e-53, 8.828871041438498e-54, 5.132825597246763e-54, 4.436678115196542e-55, 2.742557500289824e-55, 2.3143436493038394e-56, 1.4197299587816964e-56, 1.1698930772319164e-57, 7.536579435098621e-58, 5.556648005527802e-59, 3.8051725950573814e-59, 2.6322676852770955e-60, 2.0012305028277187e-60, 1.3945111254158377e-61, 1.02239423930584e-61, 6.093571457484118e-63, 5.080646448321726e-63, 2.4235393128131876e-64, 2.5700110817571833e-64, 1.1774980525881519e-65, 1.2879771980318141e-65, 5.088172566639885e-67, 6.539686600643078e-67, 1.4622282810830735e-68, 3.129645344086376e-68, 4.9380823391568405e-70, 1.5802128984868743e-69, 1.9919671429646152e-71, 7.693990275224319e-71, -2.5819754915514307e-74, 3.586346947256056e-72, -7.107517436064239e-74, 1.6911771468158197e-73, -7.770238502098533e-75, 8.640784610011519e-75, -5.4359522564396506e-76, 3.7924577102290034e-76, -2.956717326867927e-77, 1.8518244733432035e-77, -2.2090205968740844e-78, 8.080839815354711e-79, -1.4106784123861803e-79, 3.256256383726694e-80, -8.87846679496741e-81, 1.5287669627404242e-81, -4.996105873277727e-82, 6.546269055513658e-83, -2.832400977006585e-83, 2.257004780774967e-84, -1.5743684055723494e-84, 8.165364881132919e-86, -9.749696560541311e-86, 2.3373712533503474e-87, -5.394614194439624e-87, -1.1946691971488152e-88, -3.178271707298532e-88, -9.602192410298002e-90, -1.7602408439670815e-89, -8.999705424458524e-91, -9.864247970465866e-91, -6.779317594881265e-92, -5.351677966541749e-92, -4.478986497064949e-93, -2.901932019936986e-93, -2.798658153297623e-94, -1.637842054490146e-94, -1.7313106251406854e-95, -8.828419333952649e-96, -9.178110590978533e-97, -4.844921097368739e-97, -5.95292122892267e-98, -2.6663393213376904e-98, -3.694761800846849e-99, -1.4446951110636511e-99, -2.00261100371599e-100, -7.787301973255431e-101, -1.0435766815461853e-101, -4.303147800518526e-102, -6.433088178949123e-103, -2.391871538014989e-103, -3.7790132067889074e-104, -1.3101217359561188e-104, -2.0852860307404196e-105, -6.778787397543296e-106, -1.1470929702623476e-106, -3.594726721444085e-107, -6.6090094887929905e-108, -1.9919227663284564e-108, -3.619475156281118e-109, -1.0662115188713296e-109, -1.9854693210218315e-110, -5.9844952708332496e-111, -1.0617954153415563e-111, -3.138693107642727e-112, -5.704575734611084e-113, -1.7311552680002803e-113, -3.250533001551761e-114, -9.338043885429788e-115, -1.695064935285191e-115]\n"
          ],
          "name": "stdout"
        }
      ]
    },
    {
      "cell_type": "markdown",
      "metadata": {
        "id": "TLTU-3ojMA-J"
      },
      "source": [
        "## Training a polynomial regression model with L1 regularization"
      ]
    },
    {
      "cell_type": "code",
      "metadata": {
        "id": "sBfyPNvMMA-J",
        "colab": {
          "base_uri": "https://localhost:8080/"
        },
        "outputId": "fa912ec3-2cab-4247-da4a-3aa5578e7624"
      },
      "source": [
        "from sklearn import linear_model\n",
        "## TODO ##\n",
        "# use sklearn Lasso (linear regression with L1 Norm) to fit the data \n",
        "# normalization trick ;)\n",
        "\n",
        "model_L1_reg = linear_model.Lasso(alpha=0.1).fit(X_train,y_train)"
      ],
      "execution_count": null,
      "outputs": [
        {
          "output_type": "stream",
          "text": [
            "/usr/local/lib/python3.7/dist-packages/sklearn/linear_model/_coordinate_descent.py:476: ConvergenceWarning: Objective did not converge. You might want to increase the number of iterations. Duality gap: 49.616740527886755, tolerance: 0.14031769353387072\n",
            "  positive)\n"
          ],
          "name": "stderr"
        }
      ]
    },
    {
      "cell_type": "code",
      "metadata": {
        "id": "LOYlQsU5MA-K",
        "colab": {
          "base_uri": "https://localhost:8080/",
          "height": 362
        },
        "outputId": "c1a44820-f391-45ad-e147-38cd7a9dd1a1"
      },
      "source": [
        "display_results(model_L1_reg)"
      ],
      "execution_count": null,
      "outputs": [
        {
          "output_type": "stream",
          "text": [
            "Training error (rmse): 1.698589993279303\n",
            "Testing error (rmse): 485411430853.6533\n"
          ],
          "name": "stdout"
        },
        {
          "output_type": "display_data",
          "data": {
            "image/png": "[encoded data removed]",
            "text/plain": [
              "<Figure size 432x288 with 1 Axes>"
            ]
          },
          "metadata": {
            "tags": [],
            "needs_background": "light"
          }
        },
        {
          "output_type": "stream",
          "text": [
            "Polynomial coefficients\n",
            "[13.90109379005651, 0.29145976505151133, -0.48463719259594906, 0.20151863475043522, -0.08016823850595037, -0.01913399835565049, 0.0020493629911473893, -0.00017330839192489326, 3.054789832014405e-05, 1.8689855631011474e-05, -5.511025559966066e-07, 1.2108237310042732e-06, -3.618109336532222e-08, 4.983222418235742e-08, -5.543723321683711e-10, 1.6329344463109796e-09, 5.035781576565017e-11, 4.110501331879682e-11, 5.8804875709772845e-12, 4.2602957232235427e-13, 4.157183267191812e-13, -3.947577677808941e-14, 2.45387505583656e-14, -4.146339356237449e-15, 1.3152832155669103e-15, -2.824071636446772e-16, 6.629443660390312e-17, -1.6610011966406424e-17, 3.1969817124227796e-18, -9.07222852644189e-19, 1.4880728554280245e-19, -4.736370387920384e-20, 6.709118234539108e-21, -2.396190284251235e-21, 2.927842481230954e-22, -1.1829662984163053e-22, 1.2299098825221015e-23, -5.7185528585270694e-24, 4.909271498694235e-25, -2.7101093389557036e-25, 1.8099891213659835e-26, -1.2585209239208693e-26, 5.736694306277013e-28, -5.714331804496958e-28, 1.176149279488746e-29, -2.5260300296722754e-29, -2.732649365374093e-31, -1.0788981703133372e-30, -5.743022442474368e-32, -4.391776514346114e-32, -5.093542974988631e-33, -1.6581594586907057e-33, -3.674374842305854e-34, -5.441398578407739e-35, -2.4092029938717633e-35, -1.2252379420806376e-36, -1.4946530287834808e-36, 1.660664166361325e-38, -8.943179372342305e-38, 4.857998012856139e-39, -5.215940931765697e-39, 4.500370869238573e-40, -2.9845459219368507e-40, 3.310153506484556e-41, -1.682573706134629e-41, 2.1950951373638243e-42, -9.373331293197687e-43, 1.3715838046468284e-43, -5.170750706918624e-44, 8.24358218955032e-45, -2.8290025772659433e-45, 4.820179067174659e-46, -1.5369252308278253e-46, 2.7610380052985605e-47, -8.298850565292198e-48, 1.556392028976311e-48, -4.457106316625606e-49, 8.66109047072786e-50, -2.382435142954678e-50, 4.768958864825343e-51, -1.2680589465763646e-51, 2.602632826128841e-52, -6.723414877073813e-53, 1.4096469083116979e-53, -3.5524395831098e-54, 7.585153210773767e-55, -1.8710358361926544e-55, 4.058213828944162e-56, -9.8258654428163e-57, 2.1603093224018789e-57, -5.146277317346595e-58, 1.1448560585370797e-58, -2.688671870212599e-59, 6.042882092304173e-60, -1.4014688323853556e-60, 3.178111384881814e-61, -7.289548768638237e-62, 1.6659985762972348e-62, -3.784015962782939e-63, 8.707417703075457e-64, -1.9606404208658396e-64, 4.538639223522803e-65, -1.0141169008754863e-65, 2.3598377675610117e-66, -5.2368612296231785e-67, 1.2241823324851322e-67, -2.700169590835931e-68, 6.337167568032522e-69, -1.3902356426870804e-69, 3.274152126610057e-70, -7.148263742980065e-71, 1.6885717757561186e-71, -3.670811564346011e-72, 8.693878464527897e-73, -1.882803944637036e-73, 4.4692232759408725e-74, -9.646270870426458e-75, 2.294148110005086e-75, -4.9368845159989584e-76, 1.1760456260591607e-76, -2.52412931389169e-77, 6.021144115227641e-78, -1.2893166790924692e-78, 3.079084663857885e-79, -6.57990551352989e-80, 1.5728408305980197e-80, -3.355158321268252e-81, 8.025991249963963e-82, -1.709462602155795e-82, 4.0915822332432056e-83, -8.703182827170985e-84, 2.083955502748511e-84, -4.427780453426636e-85, 1.0605084600480707e-85, -2.2511270928208644e-86, 5.392506154331975e-87, -1.1437613746121778e-87, 2.7399251665671255e-88, -5.807736541205324e-89, 1.3911616515689508e-89, -2.9473261496264707e-90, 7.058710029266595e-91, -1.4949003322393386e-91, 3.579305303741656e-92, -7.578290093235253e-93, 1.813900738605169e-93, -3.8398712004359125e-94, 9.18722523708474e-95, -1.944730281971214e-95, 4.650772007216412e-96, -9.844861633717027e-97, 2.3531438635e-97, -4.981693857005863e-98, 1.1900542406614656e-98, -2.5198271558114365e-99, 6.015770262935547e-100, -1.2740878730166867e-100, 3.0397132129682574e-101, -6.439780514898327e-102, 1.5353270255961036e-102, -3.253819800194433e-103, 7.751853000592905e-104, -1.643516065618154e-104, 3.912509389638333e-105, -8.298876779314367e-106, 1.9740531827684158e-106, -4.189248252538112e-107, 9.956891470153274e-108, -2.1141240169519284e-108, 5.020622763351396e-109, -1.0666163587921163e-109, 2.5308552221521915e-110, -5.379909436610966e-111, 1.275438467356568e-111, -2.7129130239129783e-112, 6.425996006901042e-113, -1.367715973781248e-113, 3.236801055195088e-114, -6.893818026031864e-115, 1.6300155069894197e-115, -3.4740176451040154e-116, 8.206781853945675e-117, -1.7503172175326373e-117, 4.1310878469884e-118, -8.816943653468461e-119, 2.0790792802529605e-119, -4.440580347798128e-120, 1.046157774493123e-120, -2.2360699493214963e-121, 5.263165629520928e-122, -1.1257927815496316e-122, 2.6474305335754585e-123, -5.667117551036058e-124, 1.3314766489174454e-124, -2.8523300162313976e-125, 6.695415583619242e-126, -1.4354037028084066e-126, 3.3663548762676774e-127, -7.22250573916063e-128, 1.69232519392503e-128, -3.6336570858781174e-129]\n"
          ],
          "name": "stdout"
        }
      ]
    },
    {
      "cell_type": "markdown",
      "metadata": {
        "id": "21v4zgmbMA-K"
      },
      "source": [
        "## Training a polynomial regression model with L2 regularization"
      ]
    },
    {
      "cell_type": "code",
      "metadata": {
        "id": "MrSeiPXPMA-K"
      },
      "source": [
        "from sklearn import linear_model\n",
        "## TODO ##\n",
        "# use sklearn Ridge (linear regression with L2 Norm) to fit the data \n",
        "# normalization trick ;)\n",
        "\n",
        "model_L2_reg = linear_model.Ridge(alpha=0.1,normalize=True).fit(X_train,y_train)"
      ],
      "execution_count": null,
      "outputs": []
    },
    {
      "cell_type": "code",
      "metadata": {
        "id": "TyLoFFM_MA-L",
        "colab": {
          "base_uri": "https://localhost:8080/",
          "height": 362
        },
        "outputId": "6ecc2af5-a88d-4f9c-ea58-fb66f64a2536"
      },
      "source": [
        "display_results(model_L2_reg)"
      ],
      "execution_count": null,
      "outputs": [
        {
          "output_type": "stream",
          "text": [
            "Training error (rmse): 1.9303562394268177\n",
            "Testing error (rmse): 50828434023.28381\n"
          ],
          "name": "stdout"
        },
        {
          "output_type": "display_data",
          "data": {
            "image/png": "[encoded data removed]",
            "text/plain": [
              "<Figure size 432x288 with 1 Axes>"
            ]
          },
          "metadata": {
            "tags": [],
            "needs_background": "light"
          }
        },
        {
          "output_type": "stream",
          "text": [
            "Polynomial coefficients\n",
            "[13.184734852146473, 0.569190118775401, -0.5886733231389508, 0.007755042859979741, -0.017228324236918925, 4.207496325197163e-05, -0.0005141999059753196, 6.355966911617349e-06, -1.4786825263812573e-05, 8.620421090112184e-07, -3.5424166852453933e-07, 7.055755540194629e-08, -3.0450349246858117e-09, 4.614691956277019e-09, 4.3214268008844635e-10, 2.674179326081174e-10, 4.5441657787984944e-11, 1.4383186945328749e-11, 3.252774874485513e-12, 7.353938197436131e-13, 2.0291810147996258e-13, 3.6221449651957705e-14, 1.1782721365910078e-14, 1.7318654598045432e-15, 6.54366979940187e-16, 8.072527775113496e-17, 3.524073766278292e-17, 3.6751676694630496e-18, 1.8551904708156875e-18, 1.6341533567274643e-19, 9.595143584410393e-20, 7.081729245895717e-21, 4.892391042372598e-21, 2.976536436241741e-22, 2.4651955863508997e-22, 1.2021643477875144e-23, 1.2297386873883185e-23, 4.581952500685032e-25, 6.081060008769147e-25, 1.5846754533376206e-26, 2.98386682149343e-26, 4.455929198106093e-28, 1.4538821134824722e-27, 5.329009376723093e-30, 7.03804540553807e-29, -5.603496734313836e-31, 3.3860363967102566e-30, -6.832202809582994e-32, 1.619266291156494e-31, -5.382210936445342e-33, 7.697173529349423e-33, -3.651859495323661e-34, 3.6362704464123305e-34, -2.2966112290262093e-35, 1.7066212903996887e-35, -1.3796373028683122e-36, 7.952852678496118e-37, -8.039363037974524e-38, 3.6765761169283686e-38, -4.5849296821925266e-39, 1.684121930477713e-39, -2.5736566335846783e-40, 7.630848161621353e-41, -1.427338484049433e-41, 3.411850909061999e-42, -7.842003684325387e-43, 1.5000189815987141e-43, -4.276645915757342e-44, 6.450387827755567e-45, -2.318449798192683e-45, 2.6901518252038385e-46, -1.2508497931289486e-46, 1.0722699907975073e-47, -6.722250441516823e-48, 3.969312550653875e-49, -3.60111504635016e-49, 1.2735553244474523e-50, -1.9240823056008583e-50, 2.7301507037813574e-52, -1.0258423535946697e-51, -4.987668407603276e-54, -5.459818666425966e-53, -1.20609295749903e-54, -2.90173876157091e-54, -1.0950708104967306e-55, -1.5404226574993774e-55, -8.01087122236144e-57, -8.170023438236248e-57, -5.3147453387304504e-58, -4.3300553660178976e-58, -3.334893668809203e-59, -2.2936251455567434e-59, -2.0187681087126165e-60, -1.2144275452741256e-60, -1.1919308175198896e-61, -6.428256042453251e-62, -6.910061997149241e-63, -3.4019784256534107e-63, -3.950804713107201e-64, -1.800215726142042e-64, -2.234498176049446e-65, -9.525859860184965e-66, -1.252893710347829e-66, -5.0407774875969485e-67, -6.975794989302978e-68, -2.6676405568905143e-68, -3.861505888093149e-69, -1.4119279159271218e-69, -2.127270711229834e-70, -7.474271523916031e-71, -1.167144960628717e-71, -3.9573930596884823e-72, -6.381620627547835e-73, -2.0957709331405157e-73, -3.4790454452875016e-74, -1.1101480424733475e-74, -1.8918758203924224e-75, -5.882022599886407e-76, -1.026546979319134e-76, -3.1173515066383878e-77, -5.559616839731338e-78, -1.6525754853220165e-78, -3.0060581663782044e-79, -8.763047900969315e-80, -1.6230321276269326e-80, -4.648022768888583e-81, -8.752088048218517e-82, -2.466041634381731e-82, -4.7143058830545e-83, -1.3087322159005482e-83, -2.536897450889181e-84, -6.947329359899597e-85, -1.3640082426785242e-85, -3.6889232177549895e-86, -7.3283015175198965e-87, -1.959266200791668e-87, -3.9345917343970733e-88, -1.0408699797116115e-88, -2.111246895602133e-89, -5.531023879198615e-90, -1.132270704894927e-90, -2.939795889685829e-91, -6.069581889285891e-92, -1.5628878969981092e-92, -3.2522717995989787e-93, -8.310626666733685e-94, -1.7420237967182562e-94, -4.420091185848827e-95, -9.327770394896897e-96, -2.3513450895426874e-96, -4.993136360062786e-97, -1.2510808425221756e-97, -2.6721101391347434e-98, -6.657856461994861e-99, -1.4296595086938233e-99, -3.5437230412923905e-100, -7.647488598305048e-101, -1.8865039129526698e-101, -4.0899918986903726e-102, -1.0044414474823793e-102, -2.1870153098245682e-103, -5.348807815873098e-104, -1.169268942356202e-104, -2.848730705311635e-105, -6.250530114816117e-106, -1.5174155341495416e-106, -3.340912059150548e-107, -8.083755890298958e-108, -1.78551810920093e-108, -4.306994544517786e-109, -9.541555921454162e-110, -2.295012073011237e-110, -5.0984019010285505e-111, -1.2230446980538696e-111, -2.724034593051317e-112, -6.518440292436116e-113, -1.4553190551627557e-113, -3.474453411292598e-114, -7.774525137170164e-115, -1.8521164337890287e-115, -4.1530034234590513e-116, -9.873854973941445e-117, -2.2183286706565307e-117, -5.264288252038313e-118, -1.1848595164414774e-118, -2.8068871025973e-119, -6.328301411379367e-120, -1.4967201758491898e-120, -3.379780866202404e-121, -7.981505031903512e-122, -1.804980912572467e-122, -4.2565301214368865e-123, -9.639195861277727e-124, -2.2701350808825504e-124, -5.147477003638272e-125, -1.2107965732517598e-125, -2.7487460541769366e-126, -6.458217635757952e-127, -1.4677851200588354e-127, -3.4448854228895046e-128, -7.837525474622395e-129]\n"
          ],
          "name": "stdout"
        }
      ]
    },
    {
      "cell_type": "markdown",
      "metadata": {
        "id": "1EsLoBMqMA-L"
      },
      "source": [
        "## Viewing the predictions in the testing set"
      ]
    },
    {
      "cell_type": "code",
      "metadata": {
        "id": "TPp6zYZ6MA-L",
        "colab": {
          "base_uri": "https://localhost:8080/",
          "height": 300
        },
        "outputId": "2238309f-00cd-46e9-a5d8-4df88ffdea86"
      },
      "source": [
        "import pandas as pd\n",
        "from IPython.display import display\n",
        "predictions={}\n",
        "predictions ['x']=X_test[:,0]\n",
        "predictions ['y']=y_test\n",
        "predictions['No reg'] = model_no_reg.predict(X_test)\n",
        "predictions['L1 reg'] = model_L1_reg.predict(X_test)\n",
        "predictions['L2 reg'] = model_L2_reg.predict(X_test)\n",
        "predictions=pd.DataFrame.from_dict(predictions)\n",
        "display(predictions)"
      ],
      "execution_count": null,
      "outputs": [
        {
          "output_type": "display_data",
          "data": {
            "text/html": [
              "<div>\n",
              "<style scoped>\n",
              "    .dataframe tbody tr th:only-of-type {\n",
              "        vertical-align: middle;\n",
              "    }\n",
              "\n",
              "    .dataframe tbody tr th {\n",
              "        vertical-align: top;\n",
              "    }\n",
              "\n",
              "    .dataframe thead th {\n",
              "        text-align: right;\n",
              "    }\n",
              "</style>\n",
              "<table border=\"1\" class=\"dataframe\">\n",
              "  <thead>\n",
              "    <tr style=\"text-align: right;\">\n",
              "      <th></th>\n",
              "      <th>x</th>\n",
              "      <th>y</th>\n",
              "      <th>No reg</th>\n",
              "      <th>L1 reg</th>\n",
              "      <th>L2 reg</th>\n",
              "    </tr>\n",
              "  </thead>\n",
              "  <tbody>\n",
              "    <tr>\n",
              "      <th>0</th>\n",
              "      <td>-1.150989</td>\n",
              "      <td>13.436894</td>\n",
              "      <td>7.403964e+03</td>\n",
              "      <td>1.251952e+01</td>\n",
              "      <td>1.170634e+01</td>\n",
              "    </tr>\n",
              "    <tr>\n",
              "      <th>1</th>\n",
              "      <td>-2.613841</td>\n",
              "      <td>9.085322</td>\n",
              "      <td>6.111814e+02</td>\n",
              "      <td>5.504443e+00</td>\n",
              "      <td>6.511204e+00</td>\n",
              "    </tr>\n",
              "    <tr>\n",
              "      <th>2</th>\n",
              "      <td>-4.859583</td>\n",
              "      <td>-15.848719</td>\n",
              "      <td>2.671654e+22</td>\n",
              "      <td>-9.357424e+09</td>\n",
              "      <td>-7.150877e+08</td>\n",
              "    </tr>\n",
              "    <tr>\n",
              "      <th>3</th>\n",
              "      <td>-0.234030</td>\n",
              "      <td>10.927272</td>\n",
              "      <td>3.278147e+01</td>\n",
              "      <td>1.380353e+01</td>\n",
              "      <td>1.301913e+01</td>\n",
              "    </tr>\n",
              "    <tr>\n",
              "      <th>4</th>\n",
              "      <td>0.756510</td>\n",
              "      <td>14.859288</td>\n",
              "      <td>1.671090e+01</td>\n",
              "      <td>1.390084e+01</td>\n",
              "      <td>1.327606e+01</td>\n",
              "    </tr>\n",
              "    <tr>\n",
              "      <th>5</th>\n",
              "      <td>-4.988572</td>\n",
              "      <td>-18.893035</td>\n",
              "      <td>3.093158e+24</td>\n",
              "      <td>-1.372919e+12</td>\n",
              "      <td>-1.437627e+11</td>\n",
              "    </tr>\n",
              "    <tr>\n",
              "      <th>6</th>\n",
              "      <td>3.653099</td>\n",
              "      <td>4.833669</td>\n",
              "      <td>-1.213336e+10</td>\n",
              "      <td>1.339744e+00</td>\n",
              "      <td>3.725251e+00</td>\n",
              "    </tr>\n",
              "    <tr>\n",
              "      <th>7</th>\n",
              "      <td>3.444219</td>\n",
              "      <td>6.685961</td>\n",
              "      <td>-1.846787e+08</td>\n",
              "      <td>2.667763e+00</td>\n",
              "      <td>5.185157e+00</td>\n",
              "    </tr>\n",
              "  </tbody>\n",
              "</table>\n",
              "</div>"
            ],
            "text/plain": [
              "          x          y        No reg        L1 reg        L2 reg\n",
              "0 -1.150989  13.436894  7.403964e+03  1.251952e+01  1.170634e+01\n",
              "1 -2.613841   9.085322  6.111814e+02  5.504443e+00  6.511204e+00\n",
              "2 -4.859583 -15.848719  2.671654e+22 -9.357424e+09 -7.150877e+08\n",
              "3 -0.234030  10.927272  3.278147e+01  1.380353e+01  1.301913e+01\n",
              "4  0.756510  14.859288  1.671090e+01  1.390084e+01  1.327606e+01\n",
              "5 -4.988572 -18.893035  3.093158e+24 -1.372919e+12 -1.437627e+11\n",
              "6  3.653099   4.833669 -1.213336e+10  1.339744e+00  3.725251e+00\n",
              "7  3.444219   6.685961 -1.846787e+08  2.667763e+00  5.185157e+00"
            ]
          },
          "metadata": {
            "tags": []
          }
        }
      ]
    },
    {
      "cell_type": "code",
      "metadata": {
        "id": "scQWLD5p-7MR"
      },
      "source": [
        ""
      ],
      "execution_count": null,
      "outputs": []
    }
  ]
}